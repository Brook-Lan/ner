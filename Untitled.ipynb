{
 "cells": [
  {
   "cell_type": "code",
   "execution_count": 1,
   "metadata": {},
   "outputs": [
    {
     "name": "stderr",
     "output_type": "stream",
     "text": [
      "Using TensorFlow backend.\n"
     ]
    }
   ],
   "source": [
    "from keras.preprocessing.sequence import pad_sequences\n",
    "import numpy as np"
   ]
  },
  {
   "cell_type": "code",
   "execution_count": 2,
   "metadata": {},
   "outputs": [],
   "source": [
    "from corpus import corpus\n",
    "from util import IdMapper, DataProcessor\n",
    "from model import build_bilstm_crf_model, save_bilstm_crf_model,load_bilstm_crf_model"
   ]
  },
  {
   "cell_type": "code",
   "execution_count": 4,
   "metadata": {},
   "outputs": [],
   "source": [
    " im = IdMapper()\n",
    "# 读取语料\n",
    "x_train, y_train = zip(*corpus)\n",
    "\n",
    "# # 编码\n",
    "# x_train = im.encode_sequences(x_train)\n",
    "# y_train = im.encode_tags(y_train)\n",
    "\n",
    "# # padding\n",
    "# x_train = pad_sequences(x_train, maxlen=500)\n",
    "# y_train = pad_sequences(y_train, maxlen=500)\n",
    "# y_train = np.expand_dims(y_train, axis=-1)\n",
    "dp = DataProcessor(500)\n",
    "x_train = dp.docs_to_sequences(x_train)\n",
    "y_train = dp.tags_to_ids(y_train)\n",
    "y_train = np.expand_dims(y_train, axis=-1)"
   ]
  },
  {
   "cell_type": "code",
   "execution_count": 5,
   "metadata": {},
   "outputs": [],
   "source": [
    "max_len = 500"
   ]
  },
  {
   "cell_type": "code",
   "execution_count": 6,
   "metadata": {
    "scrolled": true
   },
   "outputs": [],
   "source": [
    "lstm_crf_model = build_bilstm_crf_model()"
   ]
  },
  {
   "cell_type": "code",
   "execution_count": 10,
   "metadata": {},
   "outputs": [
    {
     "name": "stdout",
     "output_type": "stream",
     "text": [
      "Train on 18832 samples, validate on 8072 samples\n",
      "Epoch 1/5\n",
      "18832/18832 [==============================] - 1041s 55ms/step - loss: 0.1582 - acc: 0.9618 - val_loss: 0.0761 - val_acc: 0.9731\n",
      "Epoch 2/5\n",
      "18832/18832 [==============================] - 961s 51ms/step - loss: 0.0618 - acc: 0.9766 - val_loss: 0.0507 - val_acc: 0.9774\n",
      "Epoch 3/5\n",
      "18832/18832 [==============================] - 915s 49ms/step - loss: 0.0440 - acc: 0.9793 - val_loss: 0.0399 - val_acc: 0.9787\n",
      "Epoch 4/5\n",
      "18832/18832 [==============================] - 939s 50ms/step - loss: 0.0343 - acc: 0.9809 - val_loss: 0.0342 - val_acc: 0.9782\n",
      "Epoch 5/5\n",
      "18832/18832 [==============================] - 1008s 54ms/step - loss: 0.0281 - acc: 0.9821 - val_loss: 0.0297 - val_acc: 0.9786\n"
     ]
    }
   ],
   "source": [
    "history = lstm_crf_model.fit(x_train, \n",
    "                                          y_train,\n",
    "                                          batch_size=30,\n",
    "                                          epochs=5, \n",
    "                                          validation_split=0.3)"
   ]
  },
  {
   "cell_type": "code",
   "execution_count": 16,
   "metadata": {},
   "outputs": [],
   "source": [
    "save_bilstm_crf_model(lstm_crf_model, \"bilstmcrf.w\")"
   ]
  },
  {
   "cell_type": "code",
   "execution_count": 17,
   "metadata": {},
   "outputs": [
    {
     "ename": "ValueError",
     "evalue": "Length of the specified weight list (43) does not match the number of weights of the optimizer (0)",
     "output_type": "error",
     "traceback": [
      "\u001b[0;31m---------------------------------------------------------------------------\u001b[0m",
      "\u001b[0;31mValueError\u001b[0m                                Traceback (most recent call last)",
      "\u001b[0;32m<ipython-input-17-a42bb0fe9ef9>\u001b[0m in \u001b[0;36m<module>\u001b[0;34m\u001b[0m\n\u001b[0;32m----> 1\u001b[0;31m \u001b[0mload_bilstm_crf_model\u001b[0m\u001b[0;34m(\u001b[0m\u001b[0;34m\"bilstmcrf.w\"\u001b[0m\u001b[0;34m)\u001b[0m\u001b[0;34m\u001b[0m\u001b[0m\n\u001b[0m",
      "\u001b[0;32m~/mygithub/ner/model.py\u001b[0m in \u001b[0;36mload_bilstm_crf_model\u001b[0;34m(filename)\u001b[0m\n\u001b[1;32m     46\u001b[0m \u001b[0;32mdef\u001b[0m \u001b[0mload_bilstm_crf_model\u001b[0m\u001b[0;34m(\u001b[0m\u001b[0mfilename\u001b[0m\u001b[0;34m)\u001b[0m\u001b[0;34m:\u001b[0m\u001b[0;34m\u001b[0m\u001b[0m\n\u001b[1;32m     47\u001b[0m     \u001b[0mmodel\u001b[0m \u001b[0;34m=\u001b[0m \u001b[0mbuild_bilstm_crf_model\u001b[0m\u001b[0;34m(\u001b[0m\u001b[0;34m)\u001b[0m\u001b[0;34m\u001b[0m\u001b[0m\n\u001b[0;32m---> 48\u001b[0;31m     \u001b[0msave_load_utils\u001b[0m\u001b[0;34m.\u001b[0m\u001b[0mload_all_weights\u001b[0m\u001b[0;34m(\u001b[0m\u001b[0mmodel\u001b[0m\u001b[0;34m,\u001b[0m \u001b[0mfilename\u001b[0m\u001b[0;34m)\u001b[0m\u001b[0;34m\u001b[0m\u001b[0m\n\u001b[0m\u001b[1;32m     49\u001b[0m     \u001b[0;32mreturn\u001b[0m \u001b[0mmodel\u001b[0m\u001b[0;34m\u001b[0m\u001b[0m\n\u001b[1;32m     50\u001b[0m \u001b[0;34m\u001b[0m\u001b[0m\n",
      "\u001b[0;32m~/py_env/deeplearning/lib/python3.6/site-packages/keras_contrib/utils/save_load_utils.py\u001b[0m in \u001b[0;36mload_all_weights\u001b[0;34m(model, filepath, include_optimizer)\u001b[0m\n\u001b[1;32m    102\u001b[0m             optimizer_weight_values = [optimizer_weights_group[n] for n in\n\u001b[1;32m    103\u001b[0m                                        optimizer_weight_names]\n\u001b[0;32m--> 104\u001b[0;31m             \u001b[0mmodel\u001b[0m\u001b[0;34m.\u001b[0m\u001b[0moptimizer\u001b[0m\u001b[0;34m.\u001b[0m\u001b[0mset_weights\u001b[0m\u001b[0;34m(\u001b[0m\u001b[0moptimizer_weight_values\u001b[0m\u001b[0;34m)\u001b[0m\u001b[0;34m\u001b[0m\u001b[0m\n\u001b[0m",
      "\u001b[0;32m~/py_env/deeplearning/lib/python3.6/site-packages/keras/optimizers.py\u001b[0m in \u001b[0;36mset_weights\u001b[0;34m(self, weights)\u001b[0m\n\u001b[1;32m    122\u001b[0m                              \u001b[0mstr\u001b[0m\u001b[0;34m(\u001b[0m\u001b[0mlen\u001b[0m\u001b[0;34m(\u001b[0m\u001b[0mweights\u001b[0m\u001b[0;34m)\u001b[0m\u001b[0;34m)\u001b[0m \u001b[0;34m+\u001b[0m\u001b[0;34m\u001b[0m\u001b[0m\n\u001b[1;32m    123\u001b[0m                              \u001b[0;34m') does not match the number of weights '\u001b[0m \u001b[0;34m+\u001b[0m\u001b[0;34m\u001b[0m\u001b[0m\n\u001b[0;32m--> 124\u001b[0;31m                              'of the optimizer (' + str(len(params)) + ')')\n\u001b[0m\u001b[1;32m    125\u001b[0m         \u001b[0mweight_value_tuples\u001b[0m \u001b[0;34m=\u001b[0m \u001b[0;34m[\u001b[0m\u001b[0;34m]\u001b[0m\u001b[0;34m\u001b[0m\u001b[0m\n\u001b[1;32m    126\u001b[0m         \u001b[0mparam_values\u001b[0m \u001b[0;34m=\u001b[0m \u001b[0mK\u001b[0m\u001b[0;34m.\u001b[0m\u001b[0mbatch_get_value\u001b[0m\u001b[0;34m(\u001b[0m\u001b[0mparams\u001b[0m\u001b[0;34m)\u001b[0m\u001b[0;34m\u001b[0m\u001b[0m\n",
      "\u001b[0;31mValueError\u001b[0m: Length of the specified weight list (43) does not match the number of weights of the optimizer (0)"
     ]
    }
   ],
   "source": [
    "load_bilstm_crf_model(\"bilstmcrf.w\")"
   ]
  },
  {
   "cell_type": "code",
   "execution_count": 12,
   "metadata": {},
   "outputs": [
    {
     "data": {
      "text/plain": [
       "['O',\n",
       " 'O',\n",
       " 'B-Drug',\n",
       " 'I-Drug',\n",
       " 'I-Drug',\n",
       " 'I-Drug',\n",
       " 'I-Drug',\n",
       " 'I-Drug',\n",
       " 'I-Drug',\n",
       " 'I-Drug',\n",
       " 'I-Drug',\n",
       " 'I-Drug',\n",
       " 'I-Drug',\n",
       " 'I-Drug',\n",
       " 'O',\n",
       " 'O',\n",
       " 'O',\n",
       " 'O',\n",
       " 'O',\n",
       " 'O',\n",
       " 'O',\n",
       " 'O',\n",
       " 'O',\n",
       " 'O',\n",
       " 'O',\n",
       " 'O',\n",
       " 'O',\n",
       " 'O',\n",
       " 'O',\n",
       " 'O',\n",
       " 'O',\n",
       " 'O',\n",
       " 'O',\n",
       " 'O',\n",
       " 'O',\n",
       " 'O',\n",
       " 'O',\n",
       " 'O',\n",
       " 'O',\n",
       " 'O',\n",
       " 'O',\n",
       " 'O',\n",
       " 'O',\n",
       " 'O',\n",
       " 'O',\n",
       " 'B-Drug',\n",
       " 'I-Drug',\n",
       " 'I-Drug',\n",
       " 'I-Drug',\n",
       " 'I-Drug',\n",
       " 'I-Drug',\n",
       " 'O',\n",
       " 'O',\n",
       " 'O',\n",
       " 'O',\n",
       " 'O',\n",
       " 'O',\n",
       " 'O',\n",
       " 'O',\n",
       " 'O',\n",
       " 'O',\n",
       " 'O',\n",
       " 'O',\n",
       " 'O',\n",
       " 'O',\n",
       " 'O',\n",
       " 'O',\n",
       " 'O',\n",
       " 'O',\n",
       " 'O',\n",
       " 'O',\n",
       " 'O',\n",
       " 'O',\n",
       " 'O',\n",
       " 'O']"
      ]
     },
     "execution_count": 12,
     "metadata": {},
     "output_type": "execute_result"
    }
   ],
   "source": [
    "# test\n",
    "import re\n",
    "path = \"data/test/7.txt\"\n",
    "with open(path) as f:\n",
    "    text = f.read()\n",
    "text = re.sub(\"\\s\", \"\", text)\n",
    "docs = text.split(\"。\")\n",
    "\n",
    "x_test = dp.docs_to_sequences(docs)\n",
    "y_pre = lstm_crf_model.predict(x_test)\n",
    "aa = np.argmax(y_pre, axis=-1)\n",
    "t = aa[0][-len(docs[0]):]\n",
    "im.decode_tags([t])[0]"
   ]
  },
  {
   "cell_type": "code",
   "execution_count": 13,
   "metadata": {},
   "outputs": [
    {
     "data": {
      "text/plain": [
       "'基于胰高血糖素样肽1降糖药物的临床应用共识中华医学会糖尿病学分会自从2005年国际上第一个肠促胰素类药上市以来,此类药物的研究和临床应用有了飞速的发展'"
      ]
     },
     "execution_count": 13,
     "metadata": {},
     "output_type": "execute_result"
    }
   ],
   "source": [
    "docs[0]"
   ]
  },
  {
   "cell_type": "code",
   "execution_count": null,
   "metadata": {},
   "outputs": [],
   "source": []
  }
 ],
 "metadata": {
  "kernelspec": {
   "display_name": "Python 3",
   "language": "python",
   "name": "python3"
  },
  "language_info": {
   "codemirror_mode": {
    "name": "ipython",
    "version": 3
   },
   "file_extension": ".py",
   "mimetype": "text/x-python",
   "name": "python",
   "nbconvert_exporter": "python",
   "pygments_lexer": "ipython3",
   "version": "3.6.2"
  }
 },
 "nbformat": 4,
 "nbformat_minor": 2
}
